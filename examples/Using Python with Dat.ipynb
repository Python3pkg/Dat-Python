{
 "metadata": {
  "name": "",
  "signature": "sha256:2e3fdb9d51e9c7ae081634dde99eaa79e5da833f925ba01c454bc19917f0e2f8"
 },
 "nbformat": 3,
 "nbformat_minor": 0,
 "worksheets": [
  {
   "cells": [
    {
     "cell_type": "markdown",
     "metadata": {},
     "source": [
      "## Using Python with Dat"
     ]
    },
    {
     "cell_type": "code",
     "collapsed": false,
     "input": [
      "##Create a dat instance\n",
      "from dat import Dat\n",
      "dat = Dat(\"http://localhost:6461\")"
     ],
     "language": "python",
     "metadata": {},
     "outputs": []
    },
    {
     "cell_type": "code",
     "collapsed": false,
     "input": [
      "#Info about dat\n",
      "dat.info()"
     ],
     "language": "python",
     "metadata": {},
     "outputs": []
    },
    {
     "cell_type": "code",
     "collapsed": false,
     "input": [
      "#GET dat rows\n",
      "dat.rows()"
     ],
     "language": "python",
     "metadata": {},
     "outputs": []
    },
    {
     "cell_type": "code",
     "collapsed": false,
     "input": [
      "#GET dat csv\n",
      "dat.csv()"
     ],
     "language": "python",
     "metadata": {},
     "outputs": []
    },
    {
     "cell_type": "code",
     "collapsed": false,
     "input": [
      "#GET Python dictionary\n",
      "dat.dict()"
     ],
     "language": "python",
     "metadata": {},
     "outputs": []
    },
    {
     "cell_type": "code",
     "collapsed": false,
     "input": [
      "#POST json to dat\n",
      "dat.post_json('kiwi.json')"
     ],
     "language": "python",
     "metadata": {},
     "outputs": []
    },
    {
     "cell_type": "code",
     "collapsed": false,
     "input": [
      "#POST csv to dat\n",
      "dat.post_csv('contracts.csv')"
     ],
     "language": "python",
     "metadata": {},
     "outputs": []
    },
    {
     "cell_type": "code",
     "collapsed": false,
     "input": [
      "#GET Diff\n",
      "dat.diff()"
     ],
     "language": "python",
     "metadata": {},
     "outputs": []
    },
    {
     "cell_type": "code",
     "collapsed": false,
     "input": [
      "#Python and Pandas integration...sort of\n",
      "import pandas as pd\n",
      "dat_panda = pd.read_csv(\"http://localhost:6461/api/csv\")\n",
      "dat_panda"
     ],
     "language": "python",
     "metadata": {},
     "outputs": []
    },
    {
     "cell_type": "code",
     "collapsed": false,
     "input": [
      "#Export dat to sql using Pandas\n",
      "dat_sql = dat_panda.to_csv('dat.sql')"
     ],
     "language": "python",
     "metadata": {},
     "outputs": []
    }
   ],
   "metadata": {}
  }
 ]
}