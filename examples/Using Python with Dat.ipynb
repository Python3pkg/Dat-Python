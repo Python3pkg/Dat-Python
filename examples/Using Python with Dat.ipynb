{
 "metadata": {
  "name": "",
  "signature": "sha256:7eb0ca7be46de360810be90097f1b369e674ffc624993044493895ce77c32560"
 },
 "nbformat": 3,
 "nbformat_minor": 0,
 "worksheets": [
  {
   "cells": [
    {
     "cell_type": "markdown",
     "metadata": {},
     "source": [
      "## Using Python with Dat"
     ]
    },
    {
     "cell_type": "code",
     "collapsed": false,
     "input": [
      "##Create a dat instance\n",
      "from dat import Dat\n",
      "dat = Dat(\"http://localhost:6461\")"
     ],
     "language": "python",
     "metadata": {},
     "outputs": []
    },
    {
     "cell_type": "code",
     "collapsed": false,
     "input": [
      "#Info about dat\n",
      "dat.info()"
     ],
     "language": "python",
     "metadata": {},
     "outputs": []
    },
    {
     "cell_type": "code",
     "collapsed": false,
     "input": [
      "#GET dat rows\n",
      "dat.rows()"
     ],
     "language": "python",
     "metadata": {},
     "outputs": []
    },
    {
     "cell_type": "code",
     "collapsed": false,
     "input": [
      "#GET dat csv\n",
      "dat.csv()"
     ],
     "language": "python",
     "metadata": {},
     "outputs": []
    },
    {
     "cell_type": "code",
     "collapsed": false,
     "input": [
      "#GET Python dic\n",
      "dat.dic()"
     ],
     "language": "python",
     "metadata": {},
     "outputs": []
    },
    {
     "cell_type": "code",
     "collapsed": false,
     "input": [
      "#POST json to dat\n",
      "dat.post_json('kiwi.json')"
     ],
     "language": "python",
     "metadata": {},
     "outputs": []
    },
    {
     "cell_type": "code",
     "collapsed": false,
     "input": [
      "#POST csv to dat\n",
      "dat.post_csv('contracts.csv')"
     ],
     "language": "python",
     "metadata": {},
     "outputs": []
    },
    {
     "cell_type": "code",
     "collapsed": false,
     "input": [
      "#GET Diff\n",
      "dat.diff()"
     ],
     "language": "python",
     "metadata": {},
     "outputs": []
    },
    {
     "cell_type": "code",
     "collapsed": false,
     "input": [
      "#Python and Pandas integration...sort of\n",
      "import pandas as pd\n",
      "dat_panda = pd.read_csv(\"http://localhost:6461/api/csv\")\n",
      "dat_panda"
     ],
     "language": "python",
     "metadata": {},
     "outputs": []
    },
    {
     "cell_type": "code",
     "collapsed": false,
     "input": [
      "#Export dat to sql using Pandas\n",
      "dat_sql = dat_panda.to_csv('dat.sql')"
     ],
     "language": "python",
     "metadata": {},
     "outputs": []
    }
   ],
   "metadata": {}
  }
 ]
}