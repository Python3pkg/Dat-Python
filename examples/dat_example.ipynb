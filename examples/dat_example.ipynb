{
 "metadata": {
  "name": "",
  "signature": "sha256:94d7857650854c72a130e8d660910e46c66c2b4168a1138bc5a8790aa55d52d0"
 },
 "nbformat": 3,
 "nbformat_minor": 0,
 "worksheets": [
  {
   "cells": [
    {
     "cell_type": "markdown",
     "metadata": {},
     "source": [
      "# Using Dat in Python"
     ]
    },
    {
     "cell_type": "code",
     "collapsed": false,
     "input": [
      "from dat import Dat"
     ],
     "language": "python",
     "metadata": {},
     "outputs": [],
     "prompt_number": 6
    },
    {
     "cell_type": "markdown",
     "metadata": {},
     "source": [
      "Be sure to have a listen to a dat data store on your local host. For more information head over to https://github.com/maxogden/dat/blob/master/docs/cli-usage.md#start-a-dat-server.\n",
      "\n",
      "The example dataset I'm using is from https://github.com/bionode by @bmpvieira!"
     ]
    },
    {
     "cell_type": "markdown",
     "metadata": {},
     "source": [
      "## Instantiate Dat"
     ]
    },
    {
     "cell_type": "code",
     "collapsed": false,
     "input": [
      "dat = Dat(\"http://localhost:6461\")"
     ],
     "language": "python",
     "metadata": {},
     "outputs": [],
     "prompt_number": 7
    },
    {
     "cell_type": "markdown",
     "metadata": {},
     "source": [
      "## DAT GET\n",
      "The GET API allows user to access dat data store and its attributes."
     ]
    },
    {
     "cell_type": "code",
     "collapsed": false,
     "input": [
      "### DAT Info- returns info about dat instance\n",
      "dat.info()\n"
     ],
     "language": "python",
     "metadata": {},
     "outputs": [
      {
       "output_type": "stream",
       "stream": "stdout",
       "text": [
        "{\"dat\":\"Hello\",\"version\":\"6.8.4\",\"changes\":702,\"name\":\"bionode\",\"rows\":701,\"approximateSize\":{\"rows\":\"136.76 kB\"}}\n",
        "\n"
       ]
      }
     ],
     "prompt_number": 8
    },
    {
     "cell_type": "code",
     "collapsed": false,
     "input": [
      "### Dat Rows -returns whole dataset\n",
      "\n",
      "dat.rows()"
     ],
     "language": "python",
     "metadata": {},
     "outputs": []
    },
    {
     "cell_type": "code",
     "collapsed": false,
     "input": [
      "### DAT Diff -returns the rows that have been changed\n",
      "dat.diff()"
     ],
     "language": "python",
     "metadata": {},
     "outputs": []
    },
    {
     "cell_type": "code",
     "collapsed": false,
     "input": [
      "### DAT Csv -returns dataset in csv format\n",
      "dat.csv()"
     ],
     "language": "python",
     "metadata": {},
     "outputs": []
    },
    {
     "cell_type": "code",
     "collapsed": false,
     "input": [
      "## DAT Dic -returns data store in dictionary format\n",
      "dat.dic()"
     ],
     "language": "python",
     "metadata": {},
     "outputs": []
    },
    {
     "cell_type": "markdown",
     "metadata": {},
     "source": [
      "##To Do\n",
      "* GET individual rows and columns\n",
      "* TestsM\n",
      "* POST calls"
     ]
    },
    {
     "cell_type": "code",
     "collapsed": false,
     "input": [],
     "language": "python",
     "metadata": {},
     "outputs": []
    }
   ],
   "metadata": {}
  }
 ]
}